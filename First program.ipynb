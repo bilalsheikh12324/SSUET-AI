{
 "cells": [
  {
   "cell_type": "code",
   "execution_count": 2,
   "metadata": {},
   "outputs": [
    {
     "name": "stdout",
     "output_type": "stream",
     "text": [
      "Bio Data\n",
      "Name:  Bilal Sheikh\n",
      "Father Name:  Sheikh Hamid\n",
      "Email:  bilal.sheikh50.bs@gmail.com\n",
      "Age:  22\n",
      "City:  karachi\n"
     ]
    }
   ],
   "source": [
    "print(\"Bio Data\")\n",
    "name=\"Bilal Sheikh\"\n",
    "fathername=\"Sheikh Hamid\"\n",
    "email=\"bilal.sheikh50.bs@gmail.com\"\n",
    "age=22\n",
    "city=\"karachi\"\n",
    "qualification=\"B.Sc\"\n",
    "print(\"Name: \",name)\n",
    "print (\"Father Name: \",fathername)\n",
    "print(\"Email: \",email)\n",
    "print(\"Age: \",age)\n",
    "print(\"City: \",city)"
   ]
  },
  {
   "cell_type": "code",
   "execution_count": null,
   "metadata": {},
   "outputs": [],
   "source": []
  },
  {
   "cell_type": "code",
   "execution_count": null,
   "metadata": {},
   "outputs": [],
   "source": []
  },
  {
   "cell_type": "code",
   "execution_count": null,
   "metadata": {},
   "outputs": [],
   "source": []
  },
  {
   "cell_type": "code",
   "execution_count": null,
   "metadata": {},
   "outputs": [],
   "source": []
  }
 ],
 "metadata": {
  "kernelspec": {
   "display_name": "Python 3",
   "language": "python",
   "name": "python3"
  },
  "language_info": {
   "codemirror_mode": {
    "name": "ipython",
    "version": 3
   },
   "file_extension": ".py",
   "mimetype": "text/x-python",
   "name": "python",
   "nbconvert_exporter": "python",
   "pygments_lexer": "ipython3",
   "version": "3.7.4"
  }
 },
 "nbformat": 4,
 "nbformat_minor": 2
}
